{
 "cells": [
  {
   "cell_type": "markdown",
   "id": "146ebc50",
   "metadata": {},
   "source": []
  },
  {
   "cell_type": "code",
   "execution_count": null,
   "id": "5974a9f2",
   "metadata": {},
   "outputs": [],
   "source": []
  },
  {
   "cell_type": "markdown",
   "id": "a894980f",
   "metadata": {},
   "source": []
  },
  {
   "cell_type": "code",
   "execution_count": null,
   "id": "770d65e5",
   "metadata": {},
   "outputs": [],
   "source": [
    "import geopandas as gpd\n",
    "import plotly.express as px\n",
    "\n",
    "# Load the shapefile\n",
    "shapefile_path = \"/Users/rustin/Documents/Spatial_Analysis_Lab/SAL_Git_Projects/cheatgrass_EDD/observations(brotech)/main_PolygonLayer.shp\"\n",
    "gdf = gpd.read_file(shapefile_path)\n",
    "\n",
    "# Print first few rows of the attribute table\n",
    "print(gdf.head())\n",
    "\n",
    "# Plot using plotly\n",
    "fig = px.choropleth_mapbox(\n",
    "    gdf,\n",
    "    geojson=gdf.geometry,\n",
    "    locations=gdf.index,\n",
    "    color=gdf.columns[1],  # Change to a column you want to color by\n",
    "    mapbox_style=\"open-street-map\",\n",
    "    zoom=8,\n",
    "    center={\"lat\": gdf.geometry.centroid.y.mean(), \"lon\": gdf.geometry.centroid.x.mean()},\n",
    "    opacity=0.5,\n",
    ")\n",
    "fig.show()"
   ]
  },
  {
   "cell_type": "markdown",
   "id": "63b481e2",
   "metadata": {},
   "source": []
  },
  {
   "cell_type": "code",
   "execution_count": null,
   "id": "9cb80127",
   "metadata": {},
   "outputs": [],
   "source": [
    "import geopandas as gpd\n",
    "import pandas as pd\n",
    "\n",
    "# Load shapefile\n",
    "shapefile_path = \"/Users/rustin/Documents/Spatial_Analysis_Lab/SAL_Git_Projects/cheatgrass_EDD/observations(brotech)/main_PolygonLayer.shp\"\n",
    "gdf = gpd.read_file(shapefile_path)\n",
    "\n",
    "def parse_percentcov(val):\n",
    "    if pd.isnull(val):\n",
    "        return None\n",
    "    val = str(val).replace('%', '').strip()\n",
    "    if '-' in val:\n",
    "        lower = val.split('-')[0]\n",
    "        try:\n",
    "            return float(lower)\n",
    "        except ValueError:\n",
    "            return None\n",
    "    try:\n",
    "        return float(val)\n",
    "    except ValueError:\n",
    "        return None\n",
    "\n",
    "# Apply parsing to Percentcov\n",
    "gdf['Percentcov_num'] = gdf['Percentcov'].apply(parse_percentcov)\n",
    "\n",
    "# Convert InfestAcre to square meters\n",
    "gdf['InfestSqM'] = gdf['InfestAcre'] * 4046.86\n",
    "\n",
    "# Filter: Percentcov >= 75 and InfestSqM >= 900\n",
    "filtered_gdf = gdf[(gdf['Percentcov_num'] >= 75) & (gdf['InfestSqM'] >= 900)]\n",
    "\n",
    "# Print result summary\n",
    "print(filtered_gdf[['Percentcov', 'Percentcov_num', 'InfestAcre', 'InfestSqM']].head())\n",
    "print(f\"Filtered polygons: {len(filtered_gdf)}\")"
   ]
  },
  {
   "cell_type": "markdown",
   "id": "8ba3fdc8",
   "metadata": {},
   "source": []
  },
  {
   "cell_type": "code",
   "execution_count": null,
   "id": "fa1b48ee",
   "metadata": {},
   "outputs": [],
   "source": [
    "import plotly.express as px\n",
    "\n",
    "# Plot filtered polygons using plotly\n",
    "fig = px.choropleth_mapbox(\n",
    "    filtered_gdf,\n",
    "    geojson=filtered_gdf.geometry,\n",
    "    locations=filtered_gdf.index,\n",
    "    color=\"Percentcov_num\",  # You can change to another column if desired\n",
    "    mapbox_style=\"open-street-map\",\n",
    "    zoom=8,\n",
    "    center={\n",
    "        \"lat\": filtered_gdf.geometry.centroid.y.mean(),\n",
    "        \"lon\": filtered_gdf.geometry.centroid.x.mean()\n",
    "    },\n",
    "    opacity=0.5,\n",
    ")\n",
    "fig.show()"
   ]
  },
  {
   "cell_type": "markdown",
   "id": "4e1d934b",
   "metadata": {},
   "source": []
  },
  {
   "cell_type": "code",
   "execution_count": null,
   "id": "a4d1aa8c",
   "metadata": {},
   "outputs": [],
   "source": []
  }
 ],
 "metadata": {
  "kernelspec": {
   "display_name": "base",
   "language": "python",
   "name": "python3"
  },
  "language_info": {
   "name": "python",
   "version": "3.13.5"
  }
 },
 "nbformat": 4,
 "nbformat_minor": 5
}
