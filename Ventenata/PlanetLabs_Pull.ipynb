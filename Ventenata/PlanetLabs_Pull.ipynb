{
 "cells": [
  {
   "metadata": {},
   "cell_type": "markdown",
   "source": "",
   "id": "32eb13073b2cf248"
  },
  {
   "metadata": {},
   "cell_type": "code",
   "outputs": [],
   "execution_count": null,
   "source": "",
   "id": "4478c8a9d62e9313"
  },
  {
   "metadata": {},
   "cell_type": "markdown",
   "source": "Test API key",
   "id": "664b67559c3a9083"
  },
  {
   "metadata": {
    "ExecuteTime": {
     "end_time": "2025-02-18T18:46:24.468727Z",
     "start_time": "2025-02-18T18:46:24.278933Z"
    }
   },
   "cell_type": "code",
   "source": [
    "import requests\n",
    "from requests.auth import HTTPBasicAuth\n",
    "\n",
    "api_key = 'PLAK4bc733159fb946edb914e69f1224dee0' # Replace with your actual API key\n",
    "auth = HTTPBasicAuth(api_key, \"\")\n",
    "\n",
    "test_url = \"https://api.planet.com/data/v1/item-types\"\n",
    "response = requests.get(test_url, auth=auth)\n",
    "\n",
    "print(response.status_code)\n",
    "print(response.text)\n",
    "\n"
   ],
   "id": "ab0f826d69cafbe",
   "outputs": [
    {
     "name": "stdout",
     "output_type": "stream",
     "text": [
      "401\n",
      "{\"message\": \"Please enter a valid API key.\", \"errors\": []}\n"
     ]
    }
   ],
   "execution_count": 4
  },
  {
   "cell_type": "code",
   "id": "initial_id",
   "metadata": {
    "collapsed": true,
    "ExecuteTime": {
     "end_time": "2025-02-18T18:37:14.577067Z",
     "start_time": "2025-02-18T18:37:14.238313Z"
    }
   },
   "source": [
    "import requests\n",
    "import json\n",
    "import time\n",
    "from requests.auth import HTTPBasicAuth\n",
    "import matplotlib.pyplot as plt\n",
    "from PIL import Image\n",
    "from io import BytesIO\n",
    "\n",
    "# 1. Set Up Authentication\n",
    "api_key = 'PLAK4bc733159fb946edb914e69f1224dee0'  # Replace with your actual API key\n",
    "auth = HTTPBasicAuth(api_key, '')\n",
    "\n",
    "# 2. Define the Area of Interest (AOI)\n",
    "aoi = {\n",
    "    \"type\": \"Polygon\",\n",
    "    \"coordinates\": [\n",
    "        [\n",
    "            [-122.522, 37.7045],\n",
    "            [-122.522, 37.8295],\n",
    "            [-122.355, 37.8295],\n",
    "            [-122.355, 37.7045],\n",
    "            [-122.522, 37.7045]\n",
    "        ]\n",
    "    ]\n",
    "}\n",
    "\n",
    "# 3. Construct Search Filters\n",
    "search_filter = {\n",
    "    \"type\": \"AndFilter\",\n",
    "    \"config\": [\n",
    "        {\n",
    "            \"type\": \"GeometryFilter\",\n",
    "            \"field_name\": \"geometry\",\n",
    "            \"config\": aoi\n",
    "        },\n",
    "        {\n",
    "            \"type\": \"DateRangeFilter\",\n",
    "            \"field_name\": \"acquired\",\n",
    "            \"config\": {\n",
    "                \"gte\": \"2025-01-01T00:00:00Z\",\n",
    "                \"lte\": \"2025-02-01T00:00:00Z\"\n",
    "            }\n",
    "        },\n",
    "        {\n",
    "            \"type\": \"RangeFilter\",\n",
    "            \"field_name\": \"cloud_cover\",\n",
    "            \"config\": {\n",
    "                \"lte\": 0.1\n",
    "            }\n",
    "        }\n",
    "    ]\n",
    "}\n",
    "\n",
    "# 4. Perform the Search\n",
    "search_endpoint = 'https://api.planet.com/data/v1/quick-search'\n",
    "search_request = {\n",
    "    \"item_types\": [\"PSScene4Band\"],\n",
    "    \"filter\": search_filter\n",
    "}\n",
    "\n",
    "response = requests.post(search_endpoint, auth=auth, json=search_request)\n",
    "\n",
    "if response.status_code != 200:\n",
    "    print(\"Error during search:\", response.status_code, response.text)\n",
    "    exit()\n",
    "\n",
    "geojson = response.json()\n",
    "\n",
    "# Check if search response contains 'features'\n",
    "if \"features\" not in geojson:\n",
    "    print(\"Unexpected response format:\", json.dumps(geojson, indent=4))\n",
    "    exit()\n",
    "\n",
    "if not geojson[\"features\"]:\n",
    "    print(\"No imagery found for the specified criteria.\")\n",
    "    exit()\n",
    "\n",
    "# 5. Get Item IDs\n",
    "item_ids = [item[\"id\"] for item in geojson[\"features\"][:3]]  # Limit to first 3 items\n",
    "print(\"Found items:\", item_ids)\n",
    "\n",
    "# 6. Place an Order via Orders API\n",
    "order_endpoint = \"https://api.planet.com/compute/ops/orders/v2\"\n",
    "order_request = {\n",
    "    \"name\": \"satellite_image_order\",\n",
    "    \"source_type\": \"scenes\",\n",
    "    \"products\": [\n",
    "        {\n",
    "            \"item_ids\": item_ids,\n",
    "            \"item_type\": \"PSScene\",\n",
    "            \"product_bundle\": \"analytic_udm2\"\n",
    "        }\n",
    "    ]\n",
    "}\n",
    "\n",
    "order_response = requests.post(order_endpoint, auth=auth, json=order_request)\n",
    "if order_response.status_code != 200:\n",
    "    print(\"Error placing order:\", order_response.status_code, order_response.text)\n",
    "    exit()\n",
    "\n",
    "order_data = order_response.json()\n",
    "order_id = order_data[\"id\"]\n",
    "print(f\"Order placed successfully. Order ID: {order_id}\")\n",
    "\n",
    "# 7. Wait for Order to Complete\n",
    "status_endpoint = f\"https://api.planet.com/compute/ops/orders/v2/{order_id}\"\n",
    "while True:\n",
    "    status_response = requests.get(status_endpoint, auth=auth)\n",
    "    if status_response.status_code != 200:\n",
    "        print(\"Error checking order status:\", status_response.status_code, status_response.text)\n",
    "        exit()\n",
    "\n",
    "    status_data = status_response.json()\n",
    "    state = status_data[\"state\"]\n",
    "    print(f\"Order Status: {state}\")\n",
    "\n",
    "    if state in [\"success\", \"failed\", \"partial\"]:\n",
    "        break\n",
    "\n",
    "    time.sleep(15)  # Wait 15 seconds before checking again\n",
    "\n",
    "# 8. Download the Imagery\n",
    "if state == \"success\":\n",
    "    print(\"Order completed successfully! Downloading images...\")\n",
    "    for result in status_data.get(\"_links\", {}).get(\"results\", []):\n",
    "        download_url = result[\"location\"]\n",
    "        file_name = result[\"name\"].split(\"/\")[-1]\n",
    "\n",
    "        image_response = requests.get(download_url, auth=auth)\n",
    "        with open(file_name, \"wb\") as file:\n",
    "            file.write(image_response.content)\n",
    "\n",
    "        print(f\"Downloaded: {file_name}\")\n",
    "\n",
    "        # Display the image if it's a TIFF\n",
    "        if file_name.endswith(\".tif\"):\n",
    "            image = Image.open(BytesIO(image_response.content))\n",
    "            plt.imshow(image)\n",
    "            plt.axis('off')  # Hide axes\n",
    "            plt.show()\n",
    "\n",
    "elif state == \"partial\":\n",
    "    print(\"Order partially completed. Some images may be missing.\")\n",
    "else:\n",
    "    print(\"Order failed.\")"
   ],
   "outputs": [
    {
     "name": "stdout",
     "output_type": "stream",
     "text": [
      "Error during search: 401 {\"message\": \"Please enter a valid API key.\", \"errors\": []}\n",
      "Unexpected response format: {\n",
      "    \"message\": \"Please enter a valid API key.\",\n",
      "    \"errors\": []\n",
      "}\n"
     ]
    },
    {
     "ename": "KeyError",
     "evalue": "'features'",
     "output_type": "error",
     "traceback": [
      "\u001B[0;31m---------------------------------------------------------------------------\u001B[0m",
      "\u001B[0;31mKeyError\u001B[0m                                  Traceback (most recent call last)",
      "Cell \u001B[0;32mIn[3], line 74\u001B[0m\n\u001B[1;32m     71\u001B[0m     \u001B[38;5;28mprint\u001B[39m(\u001B[38;5;124m\"\u001B[39m\u001B[38;5;124mUnexpected response format:\u001B[39m\u001B[38;5;124m\"\u001B[39m, json\u001B[38;5;241m.\u001B[39mdumps(geojson, indent\u001B[38;5;241m=\u001B[39m\u001B[38;5;241m4\u001B[39m))\n\u001B[1;32m     72\u001B[0m     exit()\n\u001B[0;32m---> 74\u001B[0m \u001B[38;5;28;01mif\u001B[39;00m \u001B[38;5;129;01mnot\u001B[39;00m geojson[\u001B[38;5;124m\"\u001B[39m\u001B[38;5;124mfeatures\u001B[39m\u001B[38;5;124m\"\u001B[39m]:\n\u001B[1;32m     75\u001B[0m     \u001B[38;5;28mprint\u001B[39m(\u001B[38;5;124m\"\u001B[39m\u001B[38;5;124mNo imagery found for the specified criteria.\u001B[39m\u001B[38;5;124m\"\u001B[39m)\n\u001B[1;32m     76\u001B[0m     exit()\n",
      "\u001B[0;31mKeyError\u001B[0m: 'features'"
     ]
    }
   ],
   "execution_count": 3
  },
  {
   "metadata": {},
   "cell_type": "code",
   "outputs": [],
   "execution_count": null,
   "source": "",
   "id": "a4995929865fb8bb"
  },
  {
   "metadata": {},
   "cell_type": "code",
   "outputs": [],
   "execution_count": null,
   "source": "",
   "id": "e2099f2377b340f3"
  }
 ],
 "metadata": {
  "kernelspec": {
   "display_name": "Python [conda env:base] *",
   "language": "python",
   "name": "conda-base-py"
  },
  "language_info": {
   "codemirror_mode": {
    "name": "ipython",
    "version": 2
   },
   "file_extension": ".py",
   "mimetype": "text/x-python",
   "name": "python",
   "nbconvert_exporter": "python",
   "pygments_lexer": "ipython2",
   "version": "2.7.6"
  }
 },
 "nbformat": 4,
 "nbformat_minor": 5
}
